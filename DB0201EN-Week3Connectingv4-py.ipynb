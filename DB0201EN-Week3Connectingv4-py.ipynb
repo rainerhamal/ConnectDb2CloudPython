{
 "cells": [
  {
   "attachments": {},
   "cell_type": "markdown",
   "metadata": {},
   "source": [
    "Connect to Db2 database on Cloud using Python\n",
    "Estimated time needed: 15 minutes\n",
    "\n",
    "Objectives\n",
    "After completing this lab you will be able to:\n",
    "\n",
    "Import the ibm_db Python library\n",
    "Enter the database connection credentials\n",
    "Create the database connection\n",
    "Close the database connection\n",
    "\n",
    "Import the ibm_db Python library\n",
    "The ibm_db API provides a variety of useful Python functions for accessing and manipulating data in an IBM® data server database, including functions for connecting to a database, preparing and issuing SQL statements, fetching rows from result sets, calling stored procedures, committing and rolling back transactions, handling errors, and retrieving metadata.\n",
    "\n",
    "We first import the ibm_db library into our Python Application\n",
    "\n",
    "Execute the following cells by clicking within it and then press Shift and Enter keys simultaneously\n",
    "\n",
    "The following required modules are pre-installed in the Skills Network Labs environment. However if you run this notebook commands in a different Jupyter environment (e.g. Watson Studio or Ananconda) you may need to install these libraries by removing the # sign before !pip in the code cell below."
   ]
  },
  {
   "cell_type": "code",
   "execution_count": 5,
   "metadata": {},
   "outputs": [
    {
     "name": "stdout",
     "output_type": "stream",
     "text": [
      "Defaulting to user installation because normal site-packages is not writeable\n",
      "Collecting ibm_db==3.1.4\n",
      "  Using cached ibm_db-3.1.4-py3-none-any.whl\n",
      "Collecting ibm_db_sa==0.3.9\n",
      "  Using cached ibm_db_sa-0.3.9-py3-none-any.whl (30 kB)\n",
      "Collecting sqlalchemy>=0.7.3 (from ibm_db_sa==0.3.9)\n",
      "  Using cached SQLAlchemy-2.0.9-cp310-cp310-win_amd64.whl (2.0 MB)\n",
      "Collecting typing-extensions>=4.2.0 (from sqlalchemy>=0.7.3->ibm_db_sa==0.3.9)\n",
      "  Using cached typing_extensions-4.5.0-py3-none-any.whl (27 kB)\n",
      "Collecting greenlet!=0.4.17 (from sqlalchemy>=0.7.3->ibm_db_sa==0.3.9)\n",
      "  Using cached greenlet-2.0.2-cp310-cp310-win_amd64.whl (192 kB)\n",
      "Installing collected packages: ibm_db, typing-extensions, greenlet, sqlalchemy, ibm_db_sa\n",
      "  Attempting uninstall: ibm_db\n",
      "    Found existing installation: ibm-db 3.1.4\n",
      "    Uninstalling ibm-db-3.1.4:\n",
      "Note: you may need to restart the kernel to use updated packages.\n"
     ]
    },
    {
     "name": "stderr",
     "output_type": "stream",
     "text": [
      "ERROR: Could not install packages due to an OSError: [WinError 5] Access is denied: 'c:\\\\users\\\\rainer\\\\appdata\\\\roaming\\\\python\\\\python310\\\\site-packages\\\\clidriver\\\\bin\\\\amd64.VC12.CRT\\\\msvcr120.dll'\n",
      "Check the permissions.\n",
      "\n"
     ]
    },
    {
     "name": "stdout",
     "output_type": "stream",
     "text": [
      "Found existing installation: SQLAlchemy 2.0.9\n",
      "Uninstalling SQLAlchemy-2.0.9:\n",
      "  Successfully uninstalled SQLAlchemy-2.0.9\n",
      "Defaulting to user installation because normal site-packages is not writeable\n",
      "Collecting sqlalchemy==1.3.24\n",
      "  Using cached SQLAlchemy-1.3.24-cp310-cp310-win_amd64.whl\n",
      "Installing collected packages: sqlalchemy\n",
      "Successfully installed sqlalchemy-1.3.24\n"
     ]
    },
    {
     "name": "stderr",
     "output_type": "stream",
     "text": [
      "ERROR: pip's dependency resolver does not currently take into account all the packages that are installed. This behaviour is the source of the following dependency conflicts.\n",
      "ipython-sql 0.5.0 requires sqlalchemy>=2.0, but you have sqlalchemy 1.3.24 which is incompatible.\n"
     ]
    },
    {
     "name": "stdout",
     "output_type": "stream",
     "text": [
      "Defaulting to user installation because normal site-packages is not writeable\n",
      "Requirement already satisfied: ipython-sql in c:\\users\\rainer\\appdata\\roaming\\python\\python310\\site-packages (0.5.0)\n",
      "Requirement already satisfied: prettytable in c:\\users\\rainer\\appdata\\roaming\\python\\python310\\site-packages (from ipython-sql) (3.7.0)\n",
      "Requirement already satisfied: ipython in c:\\users\\rainer\\appdata\\roaming\\python\\python310\\site-packages (from ipython-sql) (8.12.0)\n",
      "Collecting sqlalchemy>=2.0 (from ipython-sql)\n",
      "  Using cached SQLAlchemy-2.0.9-cp310-cp310-win_amd64.whl (2.0 MB)\n",
      "Requirement already satisfied: sqlparse in d:\\program files\\python\\lib\\site-packages (from ipython-sql) (0.4.3)\n",
      "Requirement already satisfied: six in c:\\users\\rainer\\appdata\\roaming\\python\\python310\\site-packages (from ipython-sql) (1.16.0)\n",
      "Requirement already satisfied: ipython-genutils in c:\\users\\rainer\\appdata\\roaming\\python\\python310\\site-packages (from ipython-sql) (0.2.0)\n",
      "Requirement already satisfied: typing-extensions>=4.2.0 in c:\\users\\rainer\\appdata\\roaming\\python\\python310\\site-packages (from sqlalchemy>=2.0->ipython-sql) (4.5.0)\n",
      "Requirement already satisfied: greenlet!=0.4.17 in c:\\users\\rainer\\appdata\\roaming\\python\\python310\\site-packages (from sqlalchemy>=2.0->ipython-sql) (2.0.2)\n",
      "Requirement already satisfied: backcall in c:\\users\\rainer\\appdata\\roaming\\python\\python310\\site-packages (from ipython->ipython-sql) (0.2.0)\n",
      "Requirement already satisfied: decorator in c:\\users\\rainer\\appdata\\roaming\\python\\python310\\site-packages (from ipython->ipython-sql) (5.1.1)\n",
      "Requirement already satisfied: jedi>=0.16 in c:\\users\\rainer\\appdata\\roaming\\python\\python310\\site-packages (from ipython->ipython-sql) (0.18.2)\n",
      "Requirement already satisfied: matplotlib-inline in c:\\users\\rainer\\appdata\\roaming\\python\\python310\\site-packages (from ipython->ipython-sql) (0.1.6)\n",
      "Requirement already satisfied: pickleshare in c:\\users\\rainer\\appdata\\roaming\\python\\python310\\site-packages (from ipython->ipython-sql) (0.7.5)\n",
      "Requirement already satisfied: prompt-toolkit!=3.0.37,<3.1.0,>=3.0.30 in c:\\users\\rainer\\appdata\\roaming\\python\\python310\\site-packages (from ipython->ipython-sql) (3.0.38)\n",
      "Requirement already satisfied: pygments>=2.4.0 in c:\\users\\rainer\\appdata\\roaming\\python\\python310\\site-packages (from ipython->ipython-sql) (2.15.0)\n",
      "Requirement already satisfied: stack-data in c:\\users\\rainer\\appdata\\roaming\\python\\python310\\site-packages (from ipython->ipython-sql) (0.6.2)\n",
      "Requirement already satisfied: traitlets>=5 in c:\\users\\rainer\\appdata\\roaming\\python\\python310\\site-packages (from ipython->ipython-sql) (5.9.0)\n",
      "Requirement already satisfied: colorama in c:\\users\\rainer\\appdata\\roaming\\python\\python310\\site-packages (from ipython->ipython-sql) (0.4.6)\n",
      "Requirement already satisfied: wcwidth in c:\\users\\rainer\\appdata\\roaming\\python\\python310\\site-packages (from prettytable->ipython-sql) (0.2.6)\n",
      "Requirement already satisfied: parso<0.9.0,>=0.8.0 in c:\\users\\rainer\\appdata\\roaming\\python\\python310\\site-packages (from jedi>=0.16->ipython->ipython-sql) (0.8.3)\n",
      "Requirement already satisfied: executing>=1.2.0 in c:\\users\\rainer\\appdata\\roaming\\python\\python310\\site-packages (from stack-data->ipython->ipython-sql) (1.2.0)\n",
      "Requirement already satisfied: asttokens>=2.1.0 in c:\\users\\rainer\\appdata\\roaming\\python\\python310\\site-packages (from stack-data->ipython->ipython-sql) (2.2.1)\n",
      "Requirement already satisfied: pure-eval in c:\\users\\rainer\\appdata\\roaming\\python\\python310\\site-packages (from stack-data->ipython->ipython-sql) (0.2.2)\n",
      "Installing collected packages: sqlalchemy\n",
      "  Attempting uninstall: sqlalchemy\n",
      "    Found existing installation: SQLAlchemy 1.3.24\n",
      "    Uninstalling SQLAlchemy-1.3.24:\n",
      "      Successfully uninstalled SQLAlchemy-1.3.24\n",
      "Successfully installed sqlalchemy-2.0.9\n",
      "Note: you may need to restart the kernel to use updated packages.\n"
     ]
    }
   ],
   "source": [
    "# These libraries are pre-installed in SN Labs. If running in another environment please uncomment lines below to install them:\n",
    "%pip install --force-reinstall ibm_db==3.1.4 ibm_db_sa==0.3.9\n",
    "# Ensure we don't load_ext with sqlalchemy>=1.4 (incompadible)\n",
    "!pip uninstall sqlalchemy==1.4 -y && pip install sqlalchemy==1.3.24\n",
    "%pip install ipython-sql"
   ]
  },
  {
   "cell_type": "code",
   "execution_count": 6,
   "metadata": {},
   "outputs": [],
   "source": [
    "import ibm_db"
   ]
  },
  {
   "attachments": {},
   "cell_type": "markdown",
   "metadata": {},
   "source": [
    "Identify the database connection credentials\n",
    "Connecting to dashDB or DB2 database requires the following information:\n",
    "\n",
    "Driver Name\n",
    "Database name\n",
    "Host DNS name or IP address\n",
    "Host port\n",
    "Connection protocol\n",
    "User ID (or username)\n",
    "User Password\n",
    "Notice: To obtain credentials please refer to the instructions given in the first Lab of this course\n",
    "\n",
    "Now enter your database credentials below and execute the cell with Shift + Enter"
   ]
  },
  {
   "cell_type": "code",
   "execution_count": 7,
   "metadata": {},
   "outputs": [],
   "source": [
    "from config import dsn_hostname,dsn_uid,dsn_pwd,dsn_driver,dsn_database,dsn_port,dsn_protocol,dsn_security"
   ]
  },
  {
   "cell_type": "code",
   "execution_count": 58,
   "metadata": {},
   "outputs": [],
   "source": [
    "# Identify the database connection credentials in config.py\n",
    "\n",
    "#Replace the placeholder values with your actual Db2 hostname, username, and password:\n",
    "# dsn_hostname = \"YourDb2Hostname\" # e.g.: \"54a2f15b-5c0f-46df-8954-7e38e612c2bd.c1ogj3sd0tgtu0lqde00.databases.appdomain.cloud\"\n",
    "# dsn_uid = \"YourDb2Username\"        # e.g. \"abc12345\"\n",
    "# dsn_pwd = \"YoueDb2Password\"      # e.g. \"7dBZ3wWt9XN6$o0J\"\n",
    "\n",
    "# dsn_driver = \"{IBM DB2 ODBC DRIVER}\"\n",
    "# dsn_database = \"BLUDB\"            # e.g. \"BLUDB\"\n",
    "# dsn_port = \"YourPort\"                # e.g. \"32733\" \n",
    "# dsn_protocol = \"TCPIP\"            # i.e. \"TCPIP\"\n",
    "# dsn_security = \"SSL\"              #i.e. \"SSL\""
   ]
  },
  {
   "attachments": {},
   "cell_type": "markdown",
   "metadata": {},
   "source": [
    "Connect to Db2 database on Cloud using Python\n",
    "Estimated time needed: 15 minutes\n",
    "\n",
    "Objectives\n",
    "After completing this lab you will be able to:\n",
    "\n",
    "Import the ibm_db Python library\n",
    "Enter the database connection credentials\n",
    "Create the database connection\n",
    "Close the database connection"
   ]
  },
  {
   "cell_type": "code",
   "execution_count": 9,
   "metadata": {},
   "outputs": [],
   "source": [
    "#DO NOT MODIFY THIS CELL. Just RUN it with Shift + Enter\n",
    "#Create the dsn connection string\n",
    "dsn = (\n",
    "    \"DRIVER={0};\"\n",
    "    \"DATABASE={1};\"\n",
    "    \"HOSTNAME={2};\"\n",
    "    \"PORT={3};\"\n",
    "    \"PROTOCOL={4};\"\n",
    "    \"UID={5};\"\n",
    "    \"PWD={6};\"\n",
    "    \"SECURITY={7};\").format(dsn_driver, dsn_database, dsn_hostname, dsn_port, dsn_protocol, dsn_uid, dsn_pwd,dsn_security)\n",
    "\n",
    "#print the connection string to check correct values are specified\n",
    "# print(dsn)"
   ]
  },
  {
   "cell_type": "code",
   "execution_count": 10,
   "metadata": {},
   "outputs": [
    {
     "name": "stdout",
     "output_type": "stream",
     "text": [
      "Connected to database:  bludb as user:  fcx48934 on host:  0c77d6f2-5da9-48a9-81f8-86b520b87518.bs2io90l08kqb1od8lcg.databases.appdomain.cloud\n"
     ]
    }
   ],
   "source": [
    "#DO NOT MODIFY THIS CELL. Just RUN it with Shift + Enter\n",
    "#Create database connection\n",
    "try:\n",
    "    conn = ibm_db.connect(dsn, \"\", \"\")\n",
    "    print(\"Connected to database: \", dsn_database, \"as user: \", dsn_uid, \"on host: \", dsn_hostname)\n",
    "\n",
    "except:\n",
    "    print(\"Unable to connect: \", ibm_db.conn_errormsg())"
   ]
  },
  {
   "cell_type": "code",
   "execution_count": 11,
   "metadata": {},
   "outputs": [
    {
     "name": "stdout",
     "output_type": "stream",
     "text": [
      "DBMS_NAME:  DB2/LINUXX8664\n",
      "DBMS_VER:   11.05.0800\n",
      "DB_NAME:    BLUDB\n"
     ]
    }
   ],
   "source": [
    "#Retrieve Metadata for the Database Server\n",
    "server = ibm_db.server_info(conn)\n",
    "\n",
    "print (\"DBMS_NAME: \", server.DBMS_NAME)\n",
    "print (\"DBMS_VER:  \", server.DBMS_VER)\n",
    "print (\"DB_NAME:   \", server.DB_NAME)"
   ]
  },
  {
   "cell_type": "code",
   "execution_count": 12,
   "metadata": {},
   "outputs": [
    {
     "name": "stdout",
     "output_type": "stream",
     "text": [
      "DRIVER_NAME:           DB2CLI.DLL\n",
      "DRIVER_VER:            11.05.0800\n",
      "DATA_SOURCE_NAME:      BLUDB\n",
      "DRIVER_ODBC_VER:       03.51\n",
      "ODBC_VER:              03.01.0000\n",
      "ODBC_SQL_CONFORMANCE:  EXTENDED\n",
      "APPL_CODEPAGE:         1252\n",
      "CONN_CODEPAGE:         1208\n"
     ]
    }
   ],
   "source": [
    "#Retrieve Metadata for the Database Client / Driver\n",
    "client = ibm_db.client_info(conn)\n",
    "\n",
    "print (\"DRIVER_NAME:          \", client.DRIVER_NAME) \n",
    "print (\"DRIVER_VER:           \", client.DRIVER_VER)\n",
    "print (\"DATA_SOURCE_NAME:     \", client.DATA_SOURCE_NAME)\n",
    "print (\"DRIVER_ODBC_VER:      \", client.DRIVER_ODBC_VER)\n",
    "print (\"ODBC_VER:             \", client.ODBC_VER)\n",
    "print (\"ODBC_SQL_CONFORMANCE: \", client.ODBC_SQL_CONFORMANCE)\n",
    "print (\"APPL_CODEPAGE:        \", client.APPL_CODEPAGE)\n",
    "print (\"CONN_CODEPAGE:        \", client.CONN_CODEPAGE)"
   ]
  },
  {
   "attachments": {},
   "cell_type": "markdown",
   "metadata": {},
   "source": [
    "Close the Connection\n",
    "We free all resources by closing the connection. Remember that it is always important to close connections so that we can avoid unused connections taking up resources."
   ]
  },
  {
   "cell_type": "code",
   "execution_count": 13,
   "metadata": {},
   "outputs": [
    {
     "data": {
      "text/plain": [
       "True"
      ]
     },
     "execution_count": 13,
     "metadata": {},
     "output_type": "execute_result"
    }
   ],
   "source": [
    "ibm_db.close(conn)"
   ]
  },
  {
   "cell_type": "code",
   "execution_count": null,
   "metadata": {},
   "outputs": [],
   "source": []
  }
 ],
 "metadata": {
  "kernelspec": {
   "display_name": "Python 3",
   "language": "python",
   "name": "python3"
  },
  "language_info": {
   "codemirror_mode": {
    "name": "ipython",
    "version": 3
   },
   "file_extension": ".py",
   "mimetype": "text/x-python",
   "name": "python",
   "nbconvert_exporter": "python",
   "pygments_lexer": "ipython3",
   "version": "3.10.7"
  },
  "orig_nbformat": 4
 },
 "nbformat": 4,
 "nbformat_minor": 2
}
